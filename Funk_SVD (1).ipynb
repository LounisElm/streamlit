{
 "cells": [
  {
   "cell_type": "code",
   "execution_count": 2,
   "id": "aba57a79",
   "metadata": {},
   "outputs": [
    {
     "name": "stderr",
     "output_type": "stream",
     "text": [
      "c:\\Users\\belgn\\AppData\\Local\\Programs\\Python\\Python310\\lib\\site-packages\\tqdm\\auto.py:21: TqdmWarning: IProgress not found. Please update jupyter and ipywidgets. See https://ipywidgets.readthedocs.io/en/stable/user_install.html\n",
      "  from .autonotebook import tqdm as notebook_tqdm\n"
     ]
    }
   ],
   "source": [
    "import numpy as np\n",
    "import pandas as pd\n",
    "from surprise import SVD, Dataset, Reader\n",
    "from surprise.model_selection import cross_validate, train_test_split\n",
    "from surprise import accuracy\n",
    "\n",
    "from models import get_top_n\n",
    "from loaders import load_ratings, load_items\n",
    "\n",
    "import optuna\n"
   ]
  },
  {
   "cell_type": "code",
   "execution_count": 3,
   "id": "e6c543a0",
   "metadata": {},
   "outputs": [],
   "source": [
    "df_ratings = load_ratings()\n",
    "reader = Reader(rating_scale=(0.5, 5.0))\n",
    "data = Dataset.load_from_df(df_ratings[['userId', 'movieId', 'rating']], reader)"
   ]
  },
  {
   "cell_type": "markdown",
   "id": "82409878",
   "metadata": {},
   "source": [
    "# optuna => optimisation du RMSE"
   ]
  },
  {
   "cell_type": "code",
   "execution_count": 5,
   "id": "911b1c7f",
   "metadata": {},
   "outputs": [],
   "source": [
    "def objective(trial):\n",
    "    # Suggest hyperparameters\n",
    "    n_factors = trial.suggest_categorical(\"n_factors\", [20, 50, 100])\n",
    "    lr_all = trial.suggest_float(\"lr_all\", 0.001, 0.02, log=True)\n",
    "    reg_all = trial.suggest_float(\"reg_all\", 0.01, 0.1)\n",
    "\n",
    "    algo = SVD(n_factors=n_factors, lr_all=lr_all, reg_all=reg_all)\n",
    "\n",
    "    # Use train/test split for speed\n",
    "    trainset, testset = train_test_split(data, test_size=0.2)\n",
    "    algo.fit(trainset)\n",
    "    predictions = algo.test(testset)\n",
    "\n",
    "    return accuracy.rmse(predictions, verbose=False)\n"
   ]
  },
  {
   "cell_type": "code",
   "execution_count": 7,
   "id": "90ec68d8",
   "metadata": {},
   "outputs": [
    {
     "name": "stderr",
     "output_type": "stream",
     "text": [
      "[I 2025-06-04 16:41:42,278] A new study created in memory with name: no-name-84a1abe7-a197-430b-a332-cb3676fc5c97\n",
      "[I 2025-06-04 16:41:50,889] Trial 0 finished with value: 0.8183088269710818 and parameters: {'n_factors': 50, 'lr_all': 0.00607913035103462, 'reg_all': 0.08304128893122487}. Best is trial 0 with value: 0.8183088269710818.\n",
      "[I 2025-06-04 16:41:59,401] Trial 1 finished with value: 0.7985145282044015 and parameters: {'n_factors': 50, 'lr_all': 0.00728437562643609, 'reg_all': 0.04725251563714284}. Best is trial 1 with value: 0.7985145282044015.\n",
      "[I 2025-06-04 16:42:07,448] Trial 2 finished with value: 0.8220956280131422 and parameters: {'n_factors': 20, 'lr_all': 0.004621617820108475, 'reg_all': 0.04007343067179382}. Best is trial 1 with value: 0.7985145282044015.\n",
      "[I 2025-06-04 16:42:15,229] Trial 3 finished with value: 0.7974534173490841 and parameters: {'n_factors': 20, 'lr_all': 0.019267494023032433, 'reg_all': 0.0859941713543075}. Best is trial 3 with value: 0.7974534173490841.\n",
      "[I 2025-06-04 16:42:24,138] Trial 4 finished with value: 0.8072011543024996 and parameters: {'n_factors': 100, 'lr_all': 0.01671343839184345, 'reg_all': 0.03388955176010613}. Best is trial 3 with value: 0.7974534173490841.\n",
      "[I 2025-06-04 16:42:32,395] Trial 5 finished with value: 0.8083473191544845 and parameters: {'n_factors': 50, 'lr_all': 0.010815760909794697, 'reg_all': 0.09069085453425076}. Best is trial 3 with value: 0.7974534173490841.\n",
      "[I 2025-06-04 16:42:41,478] Trial 6 finished with value: 0.824562462379597 and parameters: {'n_factors': 100, 'lr_all': 0.004939944688177983, 'reg_all': 0.09180695290777102}. Best is trial 3 with value: 0.7974534173490841.\n",
      "[I 2025-06-04 16:42:50,564] Trial 7 finished with value: 0.8442290842142195 and parameters: {'n_factors': 100, 'lr_all': 0.0012789972370899079, 'reg_all': 0.055307161017449744}. Best is trial 3 with value: 0.7974534173490841.\n",
      "[I 2025-06-04 16:42:58,802] Trial 8 finished with value: 0.7995382171083707 and parameters: {'n_factors': 50, 'lr_all': 0.008489566763246678, 'reg_all': 0.060304621809209896}. Best is trial 3 with value: 0.7974534173490841.\n",
      "[I 2025-06-04 16:43:07,365] Trial 9 finished with value: 0.8367262603763703 and parameters: {'n_factors': 50, 'lr_all': 0.0021211832701876184, 'reg_all': 0.02902098434070193}. Best is trial 3 with value: 0.7974534173490841.\n",
      "[I 2025-06-04 16:43:15,148] Trial 10 finished with value: 0.7956700427469029 and parameters: {'n_factors': 20, 'lr_all': 0.01884061262209928, 'reg_all': 0.07158085446554037}. Best is trial 10 with value: 0.7956700427469029.\n",
      "[I 2025-06-04 16:43:23,084] Trial 11 finished with value: 0.799007621373476 and parameters: {'n_factors': 20, 'lr_all': 0.01711554644521872, 'reg_all': 0.0738662573509061}. Best is trial 10 with value: 0.7956700427469029.\n",
      "[I 2025-06-04 16:43:31,054] Trial 12 finished with value: 0.7941300131825109 and parameters: {'n_factors': 20, 'lr_all': 0.019600974535641035, 'reg_all': 0.07140171324617507}. Best is trial 12 with value: 0.7941300131825109.\n",
      "[I 2025-06-04 16:43:39,106] Trial 13 finished with value: 0.7966210677100183 and parameters: {'n_factors': 20, 'lr_all': 0.011771164107962888, 'reg_all': 0.06847558373643216}. Best is trial 12 with value: 0.7941300131825109.\n",
      "[I 2025-06-04 16:43:47,302] Trial 14 finished with value: 0.8376164849444416 and parameters: {'n_factors': 20, 'lr_all': 0.0023838127964802116, 'reg_all': 0.0687915556201701}. Best is trial 12 with value: 0.7941300131825109.\n",
      "[I 2025-06-04 16:43:55,165] Trial 15 finished with value: 0.8261108793269071 and parameters: {'n_factors': 20, 'lr_all': 0.011414621212955112, 'reg_all': 0.011529980819133819}. Best is trial 12 with value: 0.7941300131825109.\n",
      "[I 2025-06-04 16:44:03,254] Trial 16 finished with value: 0.8362992942324381 and parameters: {'n_factors': 20, 'lr_all': 0.003130839297891443, 'reg_all': 0.09970554009079319}. Best is trial 12 with value: 0.7941300131825109.\n",
      "[I 2025-06-04 16:44:11,478] Trial 17 finished with value: 0.8010872521139408 and parameters: {'n_factors': 20, 'lr_all': 0.013899345230766962, 'reg_all': 0.07925560678884137}. Best is trial 12 with value: 0.7941300131825109.\n",
      "[I 2025-06-04 16:44:19,799] Trial 18 finished with value: 0.8047496834845417 and parameters: {'n_factors': 20, 'lr_all': 0.008759168702247185, 'reg_all': 0.060633338855976035}. Best is trial 12 with value: 0.7941300131825109.\n",
      "[I 2025-06-04 16:44:27,849] Trial 19 finished with value: 0.8483704300583471 and parameters: {'n_factors': 20, 'lr_all': 0.0011942721915715207, 'reg_all': 0.04737145705032946}. Best is trial 12 with value: 0.7941300131825109.\n",
      "[I 2025-06-04 16:44:37,087] Trial 20 finished with value: 0.7943030034108232 and parameters: {'n_factors': 100, 'lr_all': 0.014340500001616525, 'reg_all': 0.07268014065172486}. Best is trial 12 with value: 0.7941300131825109.\n",
      "[I 2025-06-04 16:44:46,533] Trial 21 finished with value: 0.7922648513940146 and parameters: {'n_factors': 100, 'lr_all': 0.01985990673148464, 'reg_all': 0.07305705751179649}. Best is trial 21 with value: 0.7922648513940146.\n",
      "[I 2025-06-04 16:44:55,623] Trial 22 finished with value: 0.7925972165740999 and parameters: {'n_factors': 100, 'lr_all': 0.014059232035621556, 'reg_all': 0.06328722783161136}. Best is trial 21 with value: 0.7922648513940146.\n",
      "[I 2025-06-04 16:45:04,774] Trial 23 finished with value: 0.7903290786683458 and parameters: {'n_factors': 100, 'lr_all': 0.01998786951309632, 'reg_all': 0.059635281166102956}. Best is trial 23 with value: 0.7903290786683458.\n",
      "[I 2025-06-04 16:45:14,383] Trial 24 finished with value: 0.7924640317070396 and parameters: {'n_factors': 100, 'lr_all': 0.013582937149651463, 'reg_all': 0.05926055273400198}. Best is trial 23 with value: 0.7903290786683458.\n",
      "[I 2025-06-04 16:45:23,922] Trial 25 finished with value: 0.7907863891189194 and parameters: {'n_factors': 100, 'lr_all': 0.009683229413448386, 'reg_all': 0.05172514941800674}. Best is trial 23 with value: 0.7903290786683458.\n",
      "[I 2025-06-04 16:45:33,108] Trial 26 finished with value: 0.7931921261215774 and parameters: {'n_factors': 100, 'lr_all': 0.009509208713463394, 'reg_all': 0.049835544901583075}. Best is trial 23 with value: 0.7903290786683458.\n",
      "[I 2025-06-04 16:45:42,368] Trial 27 finished with value: 0.7999474714015966 and parameters: {'n_factors': 100, 'lr_all': 0.007500151307068188, 'reg_all': 0.039601711896151734}. Best is trial 23 with value: 0.7903290786683458.\n",
      "[I 2025-06-04 16:45:51,408] Trial 28 finished with value: 0.807612728463004 and parameters: {'n_factors': 100, 'lr_all': 0.0063288452004800575, 'reg_all': 0.052427277831168906}. Best is trial 23 with value: 0.7903290786683458.\n",
      "[I 2025-06-04 16:46:00,423] Trial 29 finished with value: 0.8117558617135355 and parameters: {'n_factors': 100, 'lr_all': 0.0058576634819905785, 'reg_all': 0.023090191866415533}. Best is trial 23 with value: 0.7903290786683458.\n"
     ]
    }
   ],
   "source": [
    "study = optuna.create_study(direction=\"minimize\")\n",
    "study.optimize(objective, n_trials=30, timeout=300)  # timeout en secondes"
   ]
  },
  {
   "cell_type": "code",
   "execution_count": null,
   "id": "f1ed5bad",
   "metadata": {},
   "outputs": [],
   "source": [
    "print(\"Best RMSE:\", study.best_value)\n",
    "print(\"Best params:\", study.best_params)\n"
   ]
  },
  {
   "cell_type": "markdown",
   "id": "f9751d77",
   "metadata": {},
   "source": [
    "Parameters: {'n_factors': 100, 'lr_all': 0.01998786951309632, 'reg_all': 0.059635281166102956}. Best is trial 23 with value: 0.7903290786683458."
   ]
  },
  {
   "cell_type": "code",
   "execution_count": null,
   "id": "60baf6fe",
   "metadata": {},
   "outputs": [
    {
     "data": {
      "text/plain": [
       "<surprise.prediction_algorithms.matrix_factorization.SVD at 0x1405b265480>"
      ]
     },
     "execution_count": 9,
     "metadata": {},
     "output_type": "execute_result"
    }
   ],
   "source": [
    "# best_params = study.best_params\n",
    "# algo = SVD(**best_params)\n",
    "\n",
    "# trainset = data.build_full_trainset()\n",
    "# algo.fit(trainset)\n"
   ]
  },
  {
   "cell_type": "code",
   "execution_count": 5,
   "id": "3d84a01f",
   "metadata": {},
   "outputs": [
    {
     "data": {
      "text/plain": [
       "<surprise.prediction_algorithms.matrix_factorization.SVD at 0x231ebf6bd30>"
      ]
     },
     "execution_count": 5,
     "metadata": {},
     "output_type": "execute_result"
    }
   ],
   "source": [
    "algo = SVD(n_factors=100, lr_all=0.0199878, reg_all=0.05963528)\n",
    "trainset = data.build_full_trainset()\n",
    "algo.fit(trainset)"
   ]
  },
  {
   "cell_type": "markdown",
   "id": "bed155fe",
   "metadata": {},
   "source": [
    "=> RMSE avec l'antit_Testset"
   ]
  },
  {
   "cell_type": "code",
   "execution_count": 6,
   "id": "650676ab",
   "metadata": {},
   "outputs": [],
   "source": [
    "anti_testset = trainset.build_anti_testset()\n",
    "predictions = algo.test(anti_testset)\n"
   ]
  },
  {
   "cell_type": "code",
   "execution_count": 7,
   "id": "d277c063",
   "metadata": {},
   "outputs": [
    {
     "name": "stdout",
     "output_type": "stream",
     "text": [
      "0.5988211669186972\n"
     ]
    }
   ],
   "source": [
    "print(accuracy.rmse(predictions, verbose=False))"
   ]
  }
 ],
 "metadata": {
  "kernelspec": {
   "display_name": "Python 3",
   "language": "python",
   "name": "python3"
  },
  "language_info": {
   "codemirror_mode": {
    "name": "ipython",
    "version": 3
   },
   "file_extension": ".py",
   "mimetype": "text/x-python",
   "name": "python",
   "nbconvert_exporter": "python",
   "pygments_lexer": "ipython3",
   "version": "3.10.11"
  }
 },
 "nbformat": 4,
 "nbformat_minor": 5
}
