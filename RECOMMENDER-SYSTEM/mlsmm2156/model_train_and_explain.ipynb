{
 "cells": [
  {
   "cell_type": "markdown",
   "id": "85f88954",
   "metadata": {},
   "source": [
    "# Model Training, Evaluation, and Explanation (for Both Datasets)"
   ]
  },
  {
   "cell_type": "code",
   "execution_count": 1,
   "id": "6730562c",
   "metadata": {},
   "outputs": [],
   "source": [
    "# Imports\n",
    "import os\n",
    "import random\n",
    "import time\n",
    "import joblib\n",
    "import pandas as pd\n",
    "import numpy as np\n",
    "import matplotlib.pyplot as plt\n",
    "import seaborn as sns\n",
    "\n",
    "from loaders import load_ratings\n",
    "from sklearn.metrics import mean_squared_error\n",
    "from surprise import accuracy\n",
    "\n",
    "import json\n",
    "# \n",
    "from models import ContentBased as DefaultContentBased\n",
    "from models_hackaton import ContentBased as HackathonContentBased\n",
    "from constants import Constant as C\n"
   ]
  },
  {
   "cell_type": "code",
   "execution_count": 2,
   "id": "b374a36a",
   "metadata": {},
   "outputs": [],
   "source": [
    "# Create folders\n",
    "os.makedirs(\"models\", exist_ok=True)\n",
    "os.makedirs(\"visualizations\", exist_ok=True)\n",
    "# os.makedirs(\"evaluation\", exist_ok=True)\n",
    "os.makedirs(\"evaluation/results\", exist_ok=True)\n"
   ]
  },
  {
   "cell_type": "code",
   "execution_count": 3,
   "id": "68c46516",
   "metadata": {},
   "outputs": [],
   "source": [
    "# Dataset selection\n",
    "DATASETS = {\n",
    "    'normal': load_ratings(surprise_format=True),\n",
    "    'hackathon': load_ratings(surprise_format=True, hack=True),\n",
    "}\n",
    "\n",
    "# Save trainsets\n",
    "for name, data in DATASETS.items():\n",
    "    trainset = data.build_full_trainset()\n",
    "    joblib.dump(trainset, f\"models/trainset_{name}.pkl\")\n",
    "    DATASETS[name] = trainset\n"
   ]
  },
  {
   "cell_type": "code",
   "execution_count": null,
   "id": "998190cc",
   "metadata": {},
   "outputs": [],
   "source": [
    "# Define combinations\n",
    "COMBINATIONS = {\n",
    "    'normal': [\n",
    "        (\"all_features\", \"linear_regression\"),\n",
    "        (\"all_features\", \"random_forest\"),\n",
    "        (\"all_features\", \"xgboost\"),\n",
    "        (\"all_features\", \"neural_network\")\n",
    "    ],\n",
    "    'hackathon': [\n",
    "        (\"genome_tags\", \"linear_regression\"),\n",
    "        (\"genome_tags\", \"random_forest\"),\n",
    "        (\"genome_tags\", \"xgboost\"),\n",
    "        (\"genome_tags\", \"neural_network\"),\n",
    "        (\"all_features_with_genome\", \"linear_regression\"),\n",
    "        (\"all_features_with_genome\", \"random_forest\"),\n",
    "        (\"all_features_with_genome\", \"xgboost\"),\n",
    "        (\"all_features_with_genome\", \"neural_network\"),\n",
    "        # (\"all_features_with_genome_and_visuals\", \"linear_regression\"),\n",
    "        # (\"all_features_with_genome_and_visuals\", \"random_forest\"),\n",
    "        # (\"all_features_with_genome_and_visuals\", \"xgboost\"),\n",
    "        # (\"all_features_with_genome_and_visuals\", \"neural_network\")\n",
    "    ]\n",
    "}\n"
   ]
  },
  {
   "cell_type": "code",
   "execution_count": 5,
   "id": "162670ed",
   "metadata": {},
   "outputs": [
    {
     "name": "stdout",
     "output_type": "stream",
     "text": [
      "\n",
      "==================================================\n",
      "Test with all_features_with_genome and linear_regression on hackathon\n",
      "==================================================\n",
      "🔁 Training new model...\n"
     ]
    },
    {
     "name": "stderr",
     "output_type": "stream",
     "text": [
      "c:\\Users\\nicol\\env_py312\\Lib\\site-packages\\sklearn\\feature_extraction\\text.py:517: UserWarning: The parameter 'token_pattern' will not be used since 'tokenizer' is not None'\n",
      "  warnings.warn(\n"
     ]
    },
    {
     "name": "stdout",
     "output_type": "stream",
     "text": [
      "\n",
      "Top global features:\n",
      "genre_Animation_popularity: 0.6855\n",
      "tfidf_animation: 0.6519\n",
      "tfidf_musical: 0.5588\n",
      "tfidf_western: 0.5453\n",
      "genre_Musical_popularity: 0.5451\n",
      "genre_Children_popularity: 0.5380\n",
      "tfidf_film-noir: 0.5244\n",
      "genre_Film-Noir_popularity: 0.5163\n",
      "tfidf_children: 0.5104\n",
      "genre_Western_popularity: 0.5074\n",
      "\n",
      "Explanation for user 14:\n",
      "genre_Animation_popularity: 1.0000\n",
      "genre_War_popularity: 0.9009\n",
      "tfidf_animation: 0.8738\n",
      "tfidf_comedy: 0.8734\n",
      "tfidf_adventure: 0.7964\n",
      "tfidf_action: 0.7381\n",
      "tfidf_thriller: 0.7273\n",
      "tfidf_drama: 0.7229\n",
      "tfidf_sci-fi: 0.6223\n",
      "tfidf_war: 0.6014\n",
      "❌ Error with hackathon / all_features_with_genome / linear_regression: name 'sns' is not defined\n",
      "\n",
      "==================================================\n",
      "Test with all_features_with_genome_and_visuals and linear_regression on hackathon\n",
      "==================================================\n",
      "🔁 Training new model...\n"
     ]
    },
    {
     "name": "stderr",
     "output_type": "stream",
     "text": [
      "c:\\Users\\nicol\\env_py312\\Lib\\site-packages\\sklearn\\feature_extraction\\text.py:517: UserWarning: The parameter 'token_pattern' will not be used since 'tokenizer' is not None'\n",
      "  warnings.warn(\n"
     ]
    },
    {
     "name": "stdout",
     "output_type": "stream",
     "text": [
      "❌ Error with hackathon / all_features_with_genome_and_visuals / linear_regression: 'movieId'\n",
      "\n",
      "==================================================\n",
      "Test with all_features_with_genome_and_visuals and random_forest on hackathon\n",
      "==================================================\n",
      "🔁 Training new model...\n"
     ]
    },
    {
     "name": "stderr",
     "output_type": "stream",
     "text": [
      "c:\\Users\\nicol\\env_py312\\Lib\\site-packages\\sklearn\\feature_extraction\\text.py:517: UserWarning: The parameter 'token_pattern' will not be used since 'tokenizer' is not None'\n",
      "  warnings.warn(\n"
     ]
    },
    {
     "name": "stdout",
     "output_type": "stream",
     "text": [
      "❌ Error with hackathon / all_features_with_genome_and_visuals / random_forest: 'movieId'\n",
      "\n",
      "==================================================\n",
      "Test with all_features_with_genome_and_visuals and xgboost on hackathon\n",
      "==================================================\n",
      "🔁 Training new model...\n"
     ]
    },
    {
     "name": "stderr",
     "output_type": "stream",
     "text": [
      "c:\\Users\\nicol\\env_py312\\Lib\\site-packages\\sklearn\\feature_extraction\\text.py:517: UserWarning: The parameter 'token_pattern' will not be used since 'tokenizer' is not None'\n",
      "  warnings.warn(\n"
     ]
    },
    {
     "name": "stdout",
     "output_type": "stream",
     "text": [
      "❌ Error with hackathon / all_features_with_genome_and_visuals / xgboost: 'movieId'\n",
      "\n",
      "==================================================\n",
      "Test with all_features_with_genome_and_visuals and neural_network on hackathon\n",
      "==================================================\n",
      "🔁 Training new model...\n"
     ]
    },
    {
     "name": "stderr",
     "output_type": "stream",
     "text": [
      "c:\\Users\\nicol\\env_py312\\Lib\\site-packages\\sklearn\\feature_extraction\\text.py:517: UserWarning: The parameter 'token_pattern' will not be used since 'tokenizer' is not None'\n",
      "  warnings.warn(\n"
     ]
    },
    {
     "name": "stdout",
     "output_type": "stream",
     "text": [
      "❌ Error with hackathon / all_features_with_genome_and_visuals / neural_network: 'movieId'\n"
     ]
    },
    {
     "data": {
      "text/plain": [
       "<Figure size 1200x1000 with 0 Axes>"
      ]
     },
     "metadata": {},
     "output_type": "display_data"
    }
   ],
   "source": [
    "results_filename = C.EVALUATION_PATH / \"results/all_results.json\"  \n",
    "all_results = []\n",
    "\n",
    "# Train, evaluate, and explain\n",
    "for dataset_name, combinations in COMBINATIONS.items():\n",
    "    trainset = DATASETS[dataset_name]\n",
    "\n",
    "    # Choix du bon ContentBased\n",
    "    ContentBased = HackathonContentBased if dataset_name == \"hackathon\" else DefaultContentBased\n",
    "\n",
    "    for features_method, regressor_method in combinations:\n",
    "        try:\n",
    "            print(f\"\\n{'='*50}\")\n",
    "            print(f\"Test with {features_method} and {regressor_method} on {dataset_name}\")\n",
    "            print(f\"{'='*50}\")\n",
    "\n",
    "            model_filename = f\"models/model_{dataset_name}_{features_method}_{regressor_method}.pkl\"\n",
    "\n",
    "            # Charger modèle existant si présent\n",
    "            if os.path.exists(model_filename):\n",
    "                print(\"✅ Model already trained. Loading from file.\")\n",
    "                model = joblib.load(model_filename)\n",
    "                duration = 0.0\n",
    "            else:\n",
    "                print(\"🔁 Training new model...\")\n",
    "                start = time.time()\n",
    "                model = ContentBased(features_method=features_method, regressor_method=regressor_method)\n",
    "                model.fit(trainset)\n",
    "                duration = time.time() - start\n",
    "                joblib.dump(model, model_filename)\n",
    "\n",
    "            predictions = model.test(testset=trainset.build_testset())\n",
    "            true_ratings = [r for (_, _, r) in trainset.all_ratings()]\n",
    "            rmse = accuracy.rmse(predictions, verbose=False)\n",
    "            mae = accuracy.mae(predictions, verbose=False)\n",
    "\n",
    "            result = {\n",
    "                'dataset': dataset_name,\n",
    "                'features_method': features_method,\n",
    "                'regressor_method': regressor_method,\n",
    "                'RMSE': rmse,\n",
    "                'MAE': mae,\n",
    "                'TrainTime': duration\n",
    "            }\n",
    "            all_results.append(result)\n",
    "\n",
    "            # 💾 Sauvegarder les résultats après chaque modèle\n",
    "            with open(results_filename, 'w') as f:\n",
    "                json.dump(all_results, f, indent=4)\n",
    "\n",
    "            # Explication globale\n",
    "            print(\"\\nTop global features:\")\n",
    "            global_importances = model.get_global_feature_importance(top_n=10)\n",
    "            for feature, importance in global_importances.items():\n",
    "                print(f\"{feature}: {importance:.4f}\")\n",
    "\n",
    "            model.visualize_global_feature_importance(\n",
    "                top_n=10,\n",
    "                save_path=f\"visualizations/global_importance_{dataset_name}_{features_method}_{regressor_method}.png\"\n",
    "            )\n",
    "\n",
    "            # Explication utilisateur\n",
    "            user_id = 14\n",
    "            print(f\"\\nExplanation for user {user_id}:\")\n",
    "            explanations = model.explain(user_id)\n",
    "            if explanations:\n",
    "                sorted_explanations = sorted(explanations.items(), key=lambda x: x[1], reverse=True)\n",
    "                for feature, score in sorted_explanations[:10]:\n",
    "                    print(f\"{feature}: {score:.4f}\")\n",
    "\n",
    "                model.visualize_feature_correlation(\n",
    "                    user_id,\n",
    "                    save_path=f\"visualizations/correlation_matrix_{dataset_name}_{features_method}_{regressor_method}_user_{user_id}.png\"\n",
    "                )\n",
    "            else:\n",
    "                print(\"No explanation available for this user\")\n",
    "\n",
    "        except Exception as e:\n",
    "            print(f\"❌ Error with {dataset_name} / {features_method} / {regressor_method}: {e}\")\n",
    "            # Sauvegarde même en cas d'erreur\n",
    "            with open(results_filename, 'w') as f:\n",
    "                json.dump(all_results, f, indent=4)"
   ]
  },
  {
   "cell_type": "code",
   "execution_count": 6,
   "id": "f270242c",
   "metadata": {},
   "outputs": [
    {
     "data": {
      "image/png": "[encoded data removed]",
      "text/plain": [
       "<Figure size 1200x600 with 2 Axes>"
      ]
     },
     "metadata": {},
     "output_type": "display_data"
    }
   ],
   "source": [
    "# Save evaluation results\n",
    "results_df = pd.DataFrame(all_results)\n",
    "results_df.to_csv(\"evaluation/results_all.csv\", index=False)\n",
    "\n",
    "normal_df = results_df[results_df['dataset'] == 'normal'].copy()\n",
    "hackathon_df = results_df[results_df['dataset'] == 'hackathon'].copy()\n",
    "\n",
    "plt.figure(figsize=(12, 6))\n",
    "plt.subplot(1, 2, 1)\n",
    "sns.barplot(x=normal_df['features_method'] + '\\n' + normal_df['regressor_method'], y='RMSE', data=normal_df)\n",
    "plt.title('Normal Dataset RMSE')\n",
    "plt.xticks(rotation=45)\n",
    "\n",
    "plt.subplot(1, 2, 2)\n",
    "sns.barplot(x=hackathon_df['features_method'] + '\\n' + hackathon_df['regressor_method'], y='RMSE', data=hackathon_df)\n",
    "plt.title('Hackathon Dataset RMSE')\n",
    "plt.xticks(rotation=45)\n",
    "\n",
    "plt.tight_layout()\n",
    "plt.show()\n",
    "\n",
    "normal_df.to_csv('evaluation/normal_results.csv', index=False)\n",
    "hackathon_df.to_csv('evaluation/hackathon_results.csv', index=False)\n"
   ]
  }
 ],
 "metadata": {
  "kernelspec": {
   "display_name": "env_py312",
   "language": "python",
   "name": "python3"
  },
  "language_info": {
   "codemirror_mode": {
    "name": "ipython",
    "version": 3
   },
   "file_extension": ".py",
   "mimetype": "text/x-python",
   "name": "python",
   "nbconvert_exporter": "python",
   "pygments_lexer": "ipython3",
   "version": "3.12.10"
  }
 },
 "nbformat": 4,
 "nbformat_minor": 5
}
