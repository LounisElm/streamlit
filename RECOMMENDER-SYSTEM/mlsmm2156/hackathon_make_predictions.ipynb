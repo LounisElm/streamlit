{
 "cells": [
  {
   "cell_type": "markdown",
   "id": "8090f896",
   "metadata": {},
   "source": [
    "# Packages"
   ]
  },
  {
   "cell_type": "code",
   "execution_count": 26,
   "id": "dac6dae8",
   "metadata": {},
   "outputs": [
    {
     "name": "stdout",
     "output_type": "stream",
     "text": [
      "The autoreload extension is already loaded. To reload it, use:\n",
      "  %reload_ext autoreload\n"
     ]
    }
   ],
   "source": [
    "%load_ext autoreload\n",
    "%autoreload 2\n",
    "\n",
    "import pandas as pd\n",
    "import time\n",
    "\n",
    "from constants import Constant as C\n",
    "from loaders import load_ratings\n",
    "from models import ContentBased"
   ]
  },
  {
   "cell_type": "markdown",
   "id": "c2f9e553",
   "metadata": {},
   "source": [
    "# How to generate predictions for the hackathon ?\n",
    "To submit predictions to the hackathon: \n",
    "- be sure to consider your latest version of ContentBased. Use your evaluator notebook to assess the quality of your model\n",
    "- run the make_hackathon_prediction() function in the present notebook with your best feature_method and regressor_method. This will generate a ratings_prediction.csv file\n",
    "- download ratings_prediction.csv and upload it on the onedrive of your group"
   ]
  },
  {
   "cell_type": "code",
   "execution_count": 27,
   "id": "ae7eadd9",
   "metadata": {},
   "outputs": [
    {
     "name": "stdout",
     "output_type": "stream",
     "text": [
      "\n",
      "--- Test avec feature selection ---\n",
      "\n",
      "--- Test avec all_features_with_genome_and_visuals et neural_network (avec feature selection) ---\n"
     ]
    },
    {
     "ename": "NameError",
     "evalue": "name 'torch' is not defined",
     "output_type": "error",
     "traceback": [
      "\u001b[31m---------------------------------------------------------------------------\u001b[39m",
      "\u001b[31mNameError\u001b[39m                                 Traceback (most recent call last)",
      "\u001b[36mCell\u001b[39m\u001b[36m \u001b[39m\u001b[32mIn[27]\u001b[39m\u001b[32m, line 62\u001b[39m\n\u001b[32m     60\u001b[39m     regressor_method=regressor,\n\u001b[32m     61\u001b[39m     nn_config=default_nn_configs\n\u001b[32m---> \u001b[39m\u001b[32m62\u001b[39m     \u001b[43mmake_hackathon_prediction\u001b[49m\u001b[43m(\u001b[49m\u001b[43mfeature_method\u001b[49m\u001b[43m,\u001b[49m\u001b[43m \u001b[49m\u001b[43mregressor\u001b[49m\u001b[43m,\u001b[49m\u001b[43m \u001b[49m\u001b[43mnn_config\u001b[49m\u001b[43m)\u001b[49m\n\u001b[32m     64\u001b[39m \u001b[38;5;28;01melse\u001b[39;00m:\n\u001b[32m     65\u001b[39m     make_hackathon_prediction(feature_method, regressor)\n",
      "\u001b[36mCell\u001b[39m\u001b[36m \u001b[39m\u001b[32mIn[27]\u001b[39m\u001b[32m, line 9\u001b[39m, in \u001b[36mmake_hackathon_prediction\u001b[39m\u001b[34m(feature_method, regressor_method, model)\u001b[39m\n\u001b[32m      5\u001b[39m sp_ratings = load_ratings(surprise_format=\u001b[38;5;28;01mTrue\u001b[39;00m)\n\u001b[32m      6\u001b[39m train_set = sp_ratings.build_full_trainset()\n\u001b[32m----> \u001b[39m\u001b[32m9\u001b[39m content_knn = \u001b[43mContentBased\u001b[49m\u001b[43m(\u001b[49m\u001b[43mfeature_method\u001b[49m\u001b[43m,\u001b[49m\u001b[43m \u001b[49m\u001b[43mregressor_method\u001b[49m\u001b[43m)\u001b[49m\n\u001b[32m     10\u001b[39m content_knn = model\n\u001b[32m     12\u001b[39m content_knn.fit(train_set)\n",
      "\u001b[36mFile \u001b[39m\u001b[32m<string>:8\u001b[39m, in \u001b[36m__init__\u001b[39m\u001b[34m(self, features_method, regressor_method, nn_config)\u001b[39m\n",
      "\u001b[31mNameError\u001b[39m: name 'torch' is not defined"
     ]
    }
   ],
   "source": [
    "def make_hackathon_prediction(feature_method=None, regressor_method=None, model=None):\n",
    "    \"\"\"Generate a prediction file on the test set\"\"\"\n",
    "    # 1) load train data\n",
    "    assert str(C.DATA_PATH) == r\"C:\\Users\\nicol\\Documents\\GitHub\\Majeur-BA\\RECOMMENDER-SYSTEM\\mlsmm2156\\data\\hackathon\"\n",
    "    sp_ratings = load_ratings(surprise_format=True)\n",
    "    train_set = sp_ratings.build_full_trainset()\n",
    "    \n",
    "    \n",
    "    content_knn = ContentBased(feature_method, regressor_method)\n",
    "    content_knn = model\n",
    "    \n",
    "    content_knn.fit(train_set)\n",
    "    \n",
    "    # 3) make predictions on the test set\n",
    "    df_test = pd.read_csv('data/hackathon/evidence/ratings_test.csv')[C.USER_ITEM_RATINGS]\n",
    "    test_records = list(df_test.to_records(index=False))\n",
    "    predictions = content_knn.test(test_records)\n",
    "    output_predictions = []\n",
    "    for uid, iid, _, est, _ in predictions:\n",
    "        output_predictions.append([uid, iid, est])\n",
    "    df_predictions = pd.DataFrame(data=output_predictions, columns=df_test.columns)\n",
    "\n",
    "    # 4) dump predictions\n",
    "    filename = time.strftime(\"%Y_%m_%d_%H_%M_%S\") + feature_method + \"_ratings_predictions.csv\"\n",
    "    filepath = C.RATINGS_PATH / filename\n",
    "    df_predictions.to_csv(filepath, index=False)\n",
    "    print(f\"Predictions saved to {filepath}\")\n",
    "\n",
    "    \n",
    "print(\"\\n--- Test avec feature selection ---\")\n",
    "feature_methods = [\n",
    "    \"all_features_with_genome_and_visuals\",\n",
    "    \"genome_tags\",\n",
    "    \"visual_features\"\n",
    "]\n",
    "\n",
    "regressor_methods = [\n",
    "    \"neural_network\",\n",
    "    \"xgboost\",    \n",
    "    \"random_forest\"\n",
    "]\n",
    "\n",
    "# Configurations du réseau de neurones\n",
    "default_nn_configs = [\n",
    "    {\n",
    "        'name': 'config_1',\n",
    "        'hidden_layers': [256, 128, 64],\n",
    "        'dropout_rates': [0.3, 0.2, 0.1],\n",
    "        'activation': 'relu'\n",
    "    },\n",
    "]\n",
    "\n",
    "for feature_method in feature_methods:\n",
    "    for regressor in regressor_methods:\n",
    "        print(f\"\\n--- Test avec {feature_method} et {regressor} (avec feature selection) ---\")\n",
    "        # Ajouter la configuration nn_config si c'est un réseau de neurones\n",
    "        if regressor == \"neural_network\":\n",
    "        \n",
    "            feature_method=feature_method,\n",
    "            regressor_method=regressor,\n",
    "            nn_config=default_nn_configs\n",
    "            make_hackathon_prediction(feature_method, regressor, nn_config)\n",
    "            \n",
    "        else:\n",
    "            make_hackathon_prediction(feature_method, regressor)"
   ]
  },
  {
   "cell_type": "code",
   "execution_count": null,
   "id": "3f546c18",
   "metadata": {},
   "outputs": [],
   "source": []
  }
 ],
 "metadata": {
  "kernelspec": {
   "display_name": "env_py312",
   "language": "python",
   "name": "python3"
  },
  "language_info": {
   "codemirror_mode": {
    "name": "ipython",
    "version": 3
   },
   "file_extension": ".py",
   "mimetype": "text/x-python",
   "name": "python",
   "nbconvert_exporter": "python",
   "pygments_lexer": "ipython3",
   "version": "3.12.10"
  }
 },
 "nbformat": 4,
 "nbformat_minor": 5
}
